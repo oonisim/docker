{
 "cells": [
  {
   "cell_type": "markdown",
   "source": [
    "# Save build log to file"
   ],
   "metadata": {
    "collapsed": false
   },
   "id": "ccded6deef379ab0"
  },
  {
   "cell_type": "code",
   "execution_count": null,
   "outputs": [],
   "source": [
    "docker build \"${SOURCE_REPOSITORY_PATH_OR_URL}\" \\\n",
    "  -f \"${DOCKER_FILE_PATH}\" \\\n",
    "  -t \"${APP_NAME}:${APP_TAG}\" \\\n",
    "  --no-cache --progress=plain 2>&1 | tee build.log"
   ],
   "metadata": {
    "collapsed": false
   },
   "id": "76148bf693632b85"
  }
 ],
 "metadata": {
  "kernelspec": {
   "display_name": "Python 3",
   "language": "python",
   "name": "python3"
  },
  "language_info": {
   "codemirror_mode": {
    "name": "ipython",
    "version": 2
   },
   "file_extension": ".py",
   "mimetype": "text/x-python",
   "name": "python",
   "nbconvert_exporter": "python",
   "pygments_lexer": "ipython2",
   "version": "2.7.6"
  }
 },
 "nbformat": 4,
 "nbformat_minor": 5
}
