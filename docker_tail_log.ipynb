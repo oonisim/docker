{
 "cells": [
  {
   "cell_type": "markdown",
   "id": "65dc6a71-37ee-46ed-99d4-8216e01fe622",
   "metadata": {},
   "source": [
    "# Tail the docker stdout log outputs\n",
    "\n",
    "* [docker logs](https://docs.docker.com/engine/reference/commandline/logs/)\n",
    "\n",
    "```\n",
    "docker logs -f --tail 200 container_name\n",
    "```"
   ]
  },
  {
   "cell_type": "code",
   "execution_count": null,
   "id": "cf23645a-547a-49b3-be4d-0938861619b5",
   "metadata": {},
   "outputs": [],
   "source": []
  }
 ],
 "metadata": {
  "kernelspec": {
   "display_name": "Python 3 (ipykernel)",
   "language": "python",
   "name": "python3"
  },
  "language_info": {
   "codemirror_mode": {
    "name": "ipython",
    "version": 3
   },
   "file_extension": ".py",
   "mimetype": "text/x-python",
   "name": "python",
   "nbconvert_exporter": "python",
   "pygments_lexer": "ipython3",
   "version": "3.10.12"
  }
 },
 "nbformat": 4,
 "nbformat_minor": 5
}
