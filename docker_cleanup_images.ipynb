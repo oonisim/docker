{
 "cells": [
  {
   "cell_type": "markdown",
   "source": [
    "# Clean up unused images\n",
    "\n",
    "* [Digital Ocean - How To Remove Docker Images, Containers, and Volumes](https://www.digitalocean.com/community/tutorials/how-to-remove-docker-images-containers-and-volumes)\n",
    "\n",
    "> remove any stopped containers and all unused images (not just dangling images)\n",
    "> ```\n",
    "> docker system prune -a\n",
    "> ```"
   ],
   "metadata": {
    "collapsed": false
   },
   "id": "1f2d91c8bfdd2c3"
  },
  {
   "cell_type": "code",
   "execution_count": null,
   "outputs": [],
   "source": [
    "docker system prune -a"
   ],
   "metadata": {
    "collapsed": false
   },
   "id": "99ae5378948be21f"
  },
  {
   "cell_type": "markdown",
   "source": [
    "# Remove all existed container\n",
    "\n",
    "* [Remove all exited containers](https://www.digitalocean.com/community/tutorials/how-to-remove-docker-images-containers-and-volumes#remove-all-exited-containers)\n",
    "\n",
    "> ```\n",
    "> docker rm $(docker ps -a -f status=exited -q)\n",
    "> ```"
   ],
   "metadata": {
    "collapsed": false
   },
   "id": "c245eabae1124a87"
  },
  {
   "cell_type": "code",
   "execution_count": null,
   "outputs": [],
   "source": [],
   "metadata": {
    "collapsed": false
   },
   "id": "6d6a6c47ebb1c35"
  }
 ],
 "metadata": {
  "kernelspec": {
   "display_name": "Python 3",
   "language": "python",
   "name": "python3"
  },
  "language_info": {
   "codemirror_mode": {
    "name": "ipython",
    "version": 2
   },
   "file_extension": ".py",
   "mimetype": "text/x-python",
   "name": "python",
   "nbconvert_exporter": "python",
   "pygments_lexer": "ipython2",
   "version": "2.7.6"
  }
 },
 "nbformat": 4,
 "nbformat_minor": 5
}
