{
 "cells": [
  {
   "cell_type": "markdown",
   "source": [
    "# What is ENTRYPOINT and CMD\n",
    "\n",
    "**ENTRYPOINT** is the executable and **CMD is NOT command** but **command line arguments for the ENTRYPOINT executable**.\n",
    "\n",
    "## Source of Confusion\n",
    "\n",
    "The default EXECUTABLE (ENTRYPOINT in Docker jargon) is ```/bin/sh``` which fork/exec ARGUMENT (CMD in Docker jargon) as ```/bin/sh CMD```. If you login to *NIX system, you run ```command``` but actually it is the shell which is the executable and fork/exec ```command``` which is the executable for you.\n",
    "\n",
    "* [What is the difference between CMD and ENTRYPOINT in a Dockerfile?](https://stackoverflow.com/a/21564990/4281353)\n",
    "\n",
    "> Docker has a default entrypoint which is /bin/sh -c but does not have a default command.\n",
    "\n",
    "Docker should have said, \"the default EXECUTABLE is /bin/sh and you give your command to run by the shell as CMD\".\n",
    "\n",
    "## Mental Map\n",
    "\n",
    "1. ENTRYPOINT is always there as the executable which is ```/bin/sh``` by default. \n",
    "2. Decide if you run your command via the default ```/bin/sh``` EXECUTABLE via CMD, or replace the EXECUTABLE via the [ENTRYPOINT Dockerfile Instruction](https://docs.docker.com/engine/reference/builder/#entrypoint).\n",
    "\n",
    "If you see below, it is telling ```/bin/sh``` using ```-c``` option to get the commands to run from the string ```'npm link gulp gulp-sass gulp-sourcemaps'```, but ```-c``` is unnecessary.\n",
    "\n",
    "``` \n",
    "docker run [other options] --entrypoint '/bin/sh' $IMAGE -c 'npm link gulp gulp-sass gulp-sourcemaps'\n",
    "```\n",
    "\n",
    "* [Override Dockerfile CMD by docker run command with arguments](https://stackoverflow.com/a/53847539/4281353)\n",
    "\n",
    "> * Arguments, provided in docker run are concatenated to Dockerfile's ENTRYPOINT\n",
    "> * Arguments, provided in docker run **override CMD in Dockerfile**.\n",
    "> * You should use ENTRYPOINT ['blah', 'blah'] syntax instead of ENTRYPOINT blah blah in Dockerfile for this to work\n",
    "> When you run docker like this: ```docker run -i -t ubuntu bash``` the entrypoint is the default ```/bin/sh -c```, the image is ubuntu and ```the command is **bash**```.\n",
    "\n",
    "Because Docker document writer did not understand or cannot give the mental map, the confusing [example](https://docs.docker.com/engine/reference/builder/#exec-form-entrypoint-example) appears:\n",
    "\n",
    "```\n",
    "FROM ubuntu\n",
    "ENTRYPOINT [\"top\", \"-b\"]\n",
    "CMD [\"-c\"]                  # <--- How come CMD can be '-c'?\n",
    "```"
   ],
   "metadata": {
    "collapsed": false
   },
   "id": "54d67a00e83bc497"
  },
  {
   "cell_type": "markdown",
   "source": [
    "# Python\n",
    "\n",
    "To use Python as EXECUTABLE and provide the script to run.\n",
    "\n",
    "```\n",
    "FROM <...>\n",
    "ENTRYPOINT [\"python3\"]\n",
    "CMD [\"<default script path>\", \"<script arguments>\"]\n",
    "```"
   ],
   "metadata": {
    "collapsed": false
   },
   "id": "805a303b88f67d52"
  },
  {
   "cell_type": "code",
   "execution_count": null,
   "outputs": [],
   "source": [],
   "metadata": {
    "collapsed": false
   },
   "id": "8ec8009400e9b108"
  }
 ],
 "metadata": {
  "kernelspec": {
   "display_name": "Python 3",
   "language": "python",
   "name": "python3"
  },
  "language_info": {
   "codemirror_mode": {
    "name": "ipython",
    "version": 2
   },
   "file_extension": ".py",
   "mimetype": "text/x-python",
   "name": "python",
   "nbconvert_exporter": "python",
   "pygments_lexer": "ipython2",
   "version": "2.7.6"
  }
 },
 "nbformat": 4,
 "nbformat_minor": 5
}
