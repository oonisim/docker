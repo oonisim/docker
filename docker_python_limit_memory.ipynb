{
 "cells": [
  {
   "cell_type": "markdown",
   "source": [
    "# Making Python respect Docker memory limits\n",
    "\n",
    "* [Making Python respect Docker memory limits](https://carlosbecker.com/posts/python-docker-limits/)\n",
    "\n",
    "> If you run Python inside containers, chances are you have seen Linux’s OOMKiller working at least a couple of times. This happens because Python sees the entire host’s resources as if they were available for its use. Then, it may try to allocate more memory than it is allowed to, which causes Linux to kill the process.\n",
    "> \n",
    "> To fix that, we may read the actual limits from /sys/fs/cgroup/memory/memory.limit_in_bytes and set it as the process max address space area.\n",
    "\n",
    "## Example:\n",
    "\n",
    "```\n",
    "[55850.330482] oom-kill:constraint=CONSTRAINT_NONE,nodemask=(null),cpuset=docker-dca91626d286fd03991cb36a560bf922b7280fe745353d32d3c78fab5e54d6e2.scope,mems_allowed=0,global_oom,task_memcg=/system.slice/docker-dca91626d286fd03991cb36a560bf922b7280fe745353d32d3c78fab5e54d6e2.scope,task=python3,pid=122850,uid=0\n",
    "[55850.330551] Out of memory: Killed process 122850 (python3) total-vm:90356148kB, anon-rss:27890556kB, file-rss:0kB, shmem-rss:0kB, UID:0 pgtables:98344kB oom_score_adj:0\n",
    "```\n"
   ],
   "metadata": {
    "collapsed": false
   },
   "id": "1d1ff4e17b76cbc7"
  },
  {
   "cell_type": "code",
   "execution_count": null,
   "outputs": [],
   "source": [
    "import resource\n",
    "import os\n",
    "\n",
    "if os.path.isfile('/sys/fs/cgroup/memory/memory.limit_in_bytes'):\n",
    "    with open('/sys/fs/cgroup/memory/memory.limit_in_bytes') as limit:\n",
    "        mem = int(limit.read())\n",
    "        resource.setrlimit(resource.RLIMIT_AS, (mem, mem))\n"
   ],
   "metadata": {
    "collapsed": false
   },
   "id": "28bd93b84cf931bb"
  }
 ],
 "metadata": {
  "kernelspec": {
   "display_name": "Python 3",
   "language": "python",
   "name": "python3"
  },
  "language_info": {
   "codemirror_mode": {
    "name": "ipython",
    "version": 2
   },
   "file_extension": ".py",
   "mimetype": "text/x-python",
   "name": "python",
   "nbconvert_exporter": "python",
   "pygments_lexer": "ipython2",
   "version": "2.7.6"
  }
 },
 "nbformat": 4,
 "nbformat_minor": 5
}
