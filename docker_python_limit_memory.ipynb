{
 "cells": [
  {
   "cell_type": "markdown",
   "source": [
    "# Making Python respect Docker memory limits\n",
    "\n",
    "* [Making Python respect Docker memory limits](https://carlosbecker.com/posts/python-docker-limits/)\n",
    "\n",
    "> If you run Python inside containers, chances are you have seen Linux’s OOMKiller working at least a couple of times. This happens because Python sees the entire host’s resources as if they were available for its use. Then, it may try to allocate more memory than it is allowed to, which causes Linux to kill the process.\n",
    "> \n",
    "> To fix that, we may read the actual limits from /sys/fs/cgroup/memory/memory.limit_in_bytes and set it as the process max address space area.\n",
    "\n",
    "## Example:\n",
    "\n",
    "```\n",
    "[55850.330482] oom-kill:constraint=CONSTRAINT_NONE,nodemask=(null),cpuset=docker-dca91626d286fd03991cb36a560bf922b7280fe745353d32d3c78fab5e54d6e2.scope,mems_allowed=0,global_oom,task_memcg=/system.slice/docker-dca91626d286fd03991cb36a560bf922b7280fe745353d32d3c78fab5e54d6e2.scope,task=python3,pid=122850,uid=0\n",
    "[55850.330551] Out of memory: Killed process 122850 (python3) total-vm:90356148kB, anon-rss:27890556kB, file-rss:0kB, shmem-rss:0kB, UID:0 pgtables:98344kB oom_score_adj:0\n",
    "```\n"
   ],
   "metadata": {
    "collapsed": false
   },
   "id": "1d1ff4e17b76cbc7"
  },
  {
   "cell_type": "markdown",
   "source": [
    "# For cgroup v1\n",
    "\n",
    "cgroup v2 removed ```/sys/fs/cgroup/memory/memory.limit_in_bytes```.\n",
    "\n",
    "* [/sys/fs/cgroup/memory/memory.limit_in_bytes: No such file or directory](https://github.com/oracle/docker-images/issues/1939)\n",
    "\n",
    ">  host (and docker) is configured to use cgroup V2 which is not compatible with cgroup V1\n",
    "\n",
    "Pervious docker versions relies on cgruop v1:\n",
    "\n",
    "* [What does docker mean when it says \"Memory limited without swap\"](https://stackoverflow.com/a/63726105/4281353)\n",
    "\n",
    "> Docker daemon relies on the following virtual files to implement memory and swap limits:\n",
    "> ```\n",
    "> /sys/fs/cgroup/memory/memory.limit_in_bytes\n",
    "> /sys/fs/cgroup/memory/memory.memsw.limit_in_bytes\n",
    "> ```\n",
    "> If your kernel does not support swap memory limit, the second file won't be there, and docker run won't impose any limitations on the use of the swap space. That way the container is even allowed to use more swap than the -m, --memory setting, as if --memory-swap had been set to -1. Obviously, the container can't use more swap space than you have configured on your system.\n",
    "> \n",
    "> Ubuntu/Debian containers at ```/sys/fs/cgroup/memory/memory.stat```"
   ],
   "metadata": {
    "collapsed": false
   },
   "id": "398e5ab4fc1ddfb7"
  },
  {
   "cell_type": "code",
   "execution_count": null,
   "outputs": [],
   "source": [
    "import resource\n",
    "import os\n",
    "\n",
    "if os.path.isfile('/sys/fs/cgroup/memory/memory.limit_in_bytes'):\n",
    "    with open('/sys/fs/cgroup/memory/memory.limit_in_bytes') as limit:\n",
    "        mem = int(limit.read())\n",
    "        resource.setrlimit(resource.RLIMIT_AS, (mem, mem))\n"
   ],
   "metadata": {
    "collapsed": false
   },
   "id": "28bd93b84cf931bb"
  },
  {
   "cell_type": "markdown",
   "source": [
    "# Generic\n",
    "\n",
    "* [Dask system.py](https://github.com/shughes-uk/distributed/blob/master/distributed/system.py)"
   ],
   "metadata": {
    "collapsed": false
   },
   "id": "2016e7bb95de0f3"
  },
  {
   "cell_type": "code",
   "execution_count": null,
   "outputs": [],
   "source": [
    "import sys\n",
    "\n",
    "import psutil\n",
    "\n",
    "__all__ = (\"memory_limit\", \"MEMORY_LIMIT\")\n",
    "\n",
    "\n",
    "def memory_limit() -> int:\n",
    "    \"\"\"Get the memory limit (in bytes) for this system.\n",
    "\n",
    "    Takes the minimum value from the following locations:\n",
    "\n",
    "    - Total system host memory\n",
    "    - Cgroups limit (if set)\n",
    "    - RSS rlimit (if set)\n",
    "    \"\"\"\n",
    "    limit = psutil.virtual_memory().total\n",
    "\n",
    "    # Check cgroups if available\n",
    "    # Note: can't use LINUX and WINDOWS constants as they upset mypy\n",
    "    if sys.platform == \"linux\":\n",
    "        try:\n",
    "            # cgroups v1 hard limit\n",
    "            with open(\"/sys/fs/cgroup/memory/memory.limit_in_bytes\") as f:\n",
    "                cgroups_limit = int(f.read())\n",
    "            if cgroups_limit > 0:\n",
    "                limit = min(limit, cgroups_limit)\n",
    "        except Exception:\n",
    "            pass\n",
    "        try:\n",
    "            # cgroups v1 soft limit\n",
    "            with open(\"/sys/fs/cgroup/memory/memory.soft_limit_in_bytes\") as f:\n",
    "                cgroups_limit = int(f.read())\n",
    "            if cgroups_limit > 0:\n",
    "                limit = min(limit, cgroups_limit)\n",
    "        except Exception:\n",
    "            pass\n",
    "        try:\n",
    "            # cgroups v2 hard limit\n",
    "            with open(\"/sys/fs/cgroup/memory.max\") as f:\n",
    "                cgroups_limit = int(f.read())\n",
    "                if cgroups_limit > 0:\n",
    "                    limit = min(limit, cgroups_limit)\n",
    "        except Exception:\n",
    "            pass\n",
    "        try:\n",
    "            # cgroups v2 soft limit\n",
    "            with open(\"/sys/fs/cgroup/memory.high\") as f:\n",
    "                cgroups_limit = int(f.read())\n",
    "                if cgroups_limit > 0:\n",
    "                    limit = min(limit, cgroups_limit)\n",
    "        except Exception:\n",
    "            pass\n",
    "\n",
    "    # Check rlimit if available\n",
    "    if sys.platform != \"win32\":\n",
    "        try:\n",
    "            import resource\n",
    "\n",
    "            hard_limit = resource.getrlimit(resource.RLIMIT_RSS)[1]\n",
    "            if hard_limit > 0:\n",
    "                limit = min(limit, hard_limit)\n",
    "        except (ImportError, OSError):\n",
    "            pass\n",
    "\n",
    "    return limit\n",
    "\n",
    "\n",
    "MEMORY_LIMIT = memory_limit()"
   ],
   "metadata": {
    "collapsed": false
   },
   "id": "b1fd78df261379c5"
  }
 ],
 "metadata": {
  "kernelspec": {
   "display_name": "Python 3",
   "language": "python",
   "name": "python3"
  },
  "language_info": {
   "codemirror_mode": {
    "name": "ipython",
    "version": 2
   },
   "file_extension": ".py",
   "mimetype": "text/x-python",
   "name": "python",
   "nbconvert_exporter": "python",
   "pygments_lexer": "ipython2",
   "version": "2.7.6"
  }
 },
 "nbformat": 4,
 "nbformat_minor": 5
}
