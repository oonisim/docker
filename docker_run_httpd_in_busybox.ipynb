{
 "cells": [
  {
   "cell_type": "markdown",
   "id": "64b10658",
   "metadata": {},
   "source": [
    "# How to \n",
    "\n",
    "* [How to start a httpd inside a docker busybox in a single line](https://stackoverflow.com/a/75820606/4281353)\n",
    "\n",
    "> You need to run httpd in the **foreground (-f) to keep the shell process**, and therefore the container, alive:\n",
    "> ```\n",
    "> $ docker run -d --rm -it -p 8080:8080 --name webserver busybox /bin/httpd -f -p 8080\n",
    "> ```"
   ]
  },
  {
   "cell_type": "code",
   "execution_count": 2,
   "id": "8766455f",
   "metadata": {},
   "outputs": [
    {
     "name": "stdout",
     "output_type": "stream",
     "text": [
      "Using default tag: latest\n",
      "latest: Pulling from library/busybox\n",
      "\n",
      "\u001b[1BDigest: sha256:b5d6fe0712636ceb7430189de28819e195e8966372edfc2d9409d79402a0dc16\n",
      "Status: Downloaded newer image for busybox:latest\n",
      "docker.io/library/busybox:latest\n",
      "fbbea157c98df6f9ec0828f6e0a4216d874ecebb399d9c8990c93eeb3689adbd\n"
     ]
    }
   ],
   "source": [
    "docker pull busybox\n",
    "docker run -d --rm -it -p 8080:8080 --name webserver busybox /bin/httpd -f -p 8080"
   ]
  },
  {
   "cell_type": "code",
   "execution_count": 9,
   "id": "8d034e31",
   "metadata": {},
   "outputs": [
    {
     "name": "stdout",
     "output_type": "stream",
     "text": [
      "<HTML><HEAD><TITLE>404 Not Found</TITLE></HEAD>\n",
      "<BODY><H1>404 Not Found</H1>\n",
      "The requested URL was not found\n",
      "</BODY></HTML>\n"
     ]
    }
   ],
   "source": [
    "curl -X GET http://localhost:8080"
   ]
  },
  {
   "cell_type": "code",
   "execution_count": 10,
   "id": "4a828216",
   "metadata": {},
   "outputs": [
    {
     "name": "stdout",
     "output_type": "stream",
     "text": [
      "webserver\n"
     ]
    }
   ],
   "source": [
    "docker kill webserver"
   ]
  }
 ],
 "metadata": {
  "kernelspec": {
   "display_name": "Bash",
   "language": "bash",
   "name": "bash"
  },
  "language_info": {
   "codemirror_mode": "shell",
   "file_extension": ".sh",
   "mimetype": "text/x-sh",
   "name": "bash"
  }
 },
 "nbformat": 4,
 "nbformat_minor": 5
}
