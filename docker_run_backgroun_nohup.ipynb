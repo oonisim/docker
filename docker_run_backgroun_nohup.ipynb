{
 "cells": [
  {
   "cell_type": "markdown",
   "source": [
    "# How to run a docker process background and nohup\n",
    "\n",
    "* [Why does running a background task over ssh fail if a pseudo-tty is allocated?](https://stackoverflow.com/a/32387290/4281353)\n",
    "\n",
    "> This is related with how process groups work, how bash behaves when invoked as a non-interactive shell with ```-c```, and **the effect of ```&``` in input commands**. The answer assumes you're familiar with **how job control works in UNIX**. If the concept of process groups and job control is completely new to you, I think you'll need to read up on that to fully understand this answer. A great resource to learn this is Chapter 9 of Advanced Programming in the UNIX Environment (3rd edition).\n",
    "\n",
    "* [How to get docker commands to run in the background with nohup](https://stackoverflow.com/a/63601442/4281353)\n",
    "\n",
    "> removing both the -i and -t flags would probably be sufficient\n",
    "> ```\n",
    "> --interactive , -i      Keep STDIN open even if not attached\n",
    "> --tty , -t              Allocate a pseudo-TTY\n",
    "> ```"
   ],
   "metadata": {
    "collapsed": false
   },
   "id": "626a468dea93ca48"
  },
  {
   "cell_type": "code",
   "execution_count": null,
   "outputs": [],
   "source": [
    "# DO NOT use -i -t\n",
    "nohup docker run --rm ${IMAGE}:${TAG} > run.log 2>&1 &"
   ],
   "metadata": {
    "collapsed": false
   },
   "id": "e837169bac80c5de"
  }
 ],
 "metadata": {
  "kernelspec": {
   "display_name": "Python 3",
   "language": "python",
   "name": "python3"
  },
  "language_info": {
   "codemirror_mode": {
    "name": "ipython",
    "version": 2
   },
   "file_extension": ".py",
   "mimetype": "text/x-python",
   "name": "python",
   "nbconvert_exporter": "python",
   "pygments_lexer": "ipython2",
   "version": "2.7.6"
  }
 },
 "nbformat": 4,
 "nbformat_minor": 5
}
