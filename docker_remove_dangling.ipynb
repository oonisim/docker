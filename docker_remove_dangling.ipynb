{
 "cells": [
  {
   "cell_type": "raw",
   "source": [],
   "metadata": {
    "collapsed": false
   },
   "id": "e0214f16559e1353"
  },
  {
   "cell_type": "markdown",
   "source": [
    "# How to remove unused/dangling image and containers\n",
    "\n",
    "* [docker system prune](https://docs.docker.com/engine/reference/commandline/system_prune/)"
   ],
   "metadata": {
    "collapsed": false
   },
   "id": "ffe372ecbe7e1eae"
  },
  {
   "cell_type": "code",
   "execution_count": null,
   "outputs": [],
   "source": [
    "docker system prune -f   # do not use -a"
   ],
   "metadata": {
    "collapsed": false
   },
   "id": "a8b85a6048eb6407"
  }
 ],
 "metadata": {
  "kernelspec": {
   "display_name": "Python 3",
   "language": "python",
   "name": "python3"
  },
  "language_info": {
   "codemirror_mode": {
    "name": "ipython",
    "version": 2
   },
   "file_extension": ".py",
   "mimetype": "text/x-python",
   "name": "python",
   "nbconvert_exporter": "python",
   "pygments_lexer": "ipython2",
   "version": "2.7.6"
  }
 },
 "nbformat": 4,
 "nbformat_minor": 5
}
